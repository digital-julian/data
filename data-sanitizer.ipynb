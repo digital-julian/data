{
 "cells": [
  {
   "cell_type": "code",
   "execution_count": 2,
   "id": "7f0ac171-6429-42f3-bf73-933adaf4aeb0",
   "metadata": {},
   "outputs": [],
   "source": [
    "FILEPATH = \"habitica-user-data.json\"\n",
    "DATA_DIR = 'data/task_data'\n",
    "\n",
    "from datetime import date\n",
    "import json\n",
    "\n",
    "from sanitize_data import get_cleaned_json\n",
    "\n",
    "output_filepath = f\"{DATA_DIR}/{date.today()}.json\"\n",
    "data = get_cleaned_json(FILEPATH)\n",
    "with open(output_filepath, 'w') as out_file:\n",
    "    json.dump(data, out_file)"
   ]
  },
  {
   "cell_type": "code",
   "execution_count": 5,
   "id": "57422a11-4883-4115-bb1f-f9ed43723ab3",
   "metadata": {},
   "outputs": [
    {
     "name": "stdout",
     "output_type": "stream",
     "text": [
      "data/task_data/2021-11-07.json\n",
      "data/task_data/2021-11-22.json\n"
     ]
    }
   ],
   "source": [
    "import os\n",
    "\n",
    "for filename in os.listdir(DATA_DIR):\n",
    "    if filename.endswith(\".json\"):\n",
    "        print(os.path.join(DATA_DIR, filename))\n",
    "    else:\n",
    "        continue"
   ]
  },
  {
   "cell_type": "code",
   "execution_count": null,
   "id": "31db8c80-3c57-42b8-b4ab-579a04b27022",
   "metadata": {},
   "outputs": [],
   "source": []
  }
 ],
 "metadata": {
  "kernelspec": {
   "display_name": "Python 3 (ipykernel)",
   "language": "python",
   "name": "python3"
  },
  "language_info": {
   "codemirror_mode": {
    "name": "ipython",
    "version": 3
   },
   "file_extension": ".py",
   "mimetype": "text/x-python",
   "name": "python",
   "nbconvert_exporter": "python",
   "pygments_lexer": "ipython3",
   "version": "3.7.10"
  }
 },
 "nbformat": 4,
 "nbformat_minor": 5
}
